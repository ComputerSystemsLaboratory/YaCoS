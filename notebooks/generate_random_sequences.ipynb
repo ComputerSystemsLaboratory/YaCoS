{
 "cells": [
  {
   "cell_type": "markdown",
   "metadata": {},
   "source": [
    "## Generate Random Sequences"
   ]
  },
  {
   "cell_type": "code",
   "execution_count": 1,
   "metadata": {
    "scrolled": true
   },
   "outputs": [],
   "source": [
    "# Copyright 2021 Anderson Faustino da Silva.\n",
    "#\n",
    "# Licensed under the Apache License, Version 2.0 (the \"License\");\n",
    "# you may not use this file except in compliance with the License.\n",
    "# You may obtain a copy of the License at\n",
    "#\n",
    "# http://www.apache.org/licenses/LICENSE-2.0\n",
    "#\n",
    "# Unless required by applicable law or agreed to in writing, software\n",
    "# distributed under the License is distributed on an \"AS IS\" BASIS,\n",
    "# WITHOUT WARRANTIES OR CONDITIONS OF ANY KIND, either express or implied.\n",
    "# See the License for the specific language governing permissions and\n",
    "# limitations under the License.\n",
    "#"
   ]
  },
  {
   "cell_type": "code",
   "execution_count": 2,
   "metadata": {},
   "outputs": [],
   "source": [
    "# Import YaCoS modules\n",
    "\n",
    "from yacos.essential import IO\n",
    "from yacos.essential import Goal\n",
    "from yacos.algorithm import Random"
   ]
  },
  {
   "cell_type": "code",
   "execution_count": 3,
   "metadata": {},
   "outputs": [],
   "source": [
    "# The benchmark directory\n",
    "benchmark_top_directory = './data/benchmarks'"
   ]
  },
  {
   "cell_type": "code",
   "execution_count": 4,
   "metadata": {},
   "outputs": [],
   "source": [
    "# The goal\n",
    "\n",
    "#\n",
    "# Let's use -> number of LLVM instruction \n",
    "#\n",
    "goal = ['llvm_instructions']\n",
    "weight = [1.0]\n",
    "\n",
    "# It is possible to use multiple goals.\n",
    "#\n",
    "# goal = ['compile_time', 'runtime']\n",
    "# weight = [0.3, 0.7]\n",
    "#\n",
    "# This means, compile_time will contribute with 30% of the \"goal value\".\n",
    "#\n",
    "\n",
    "#\n",
    "# It is necessary \"to prepare the goals\". See goal.py\n",
    "#\n",
    "\n",
    "the_goal = Goal.prepare_goal(goal, weight)"
   ]
  },
  {
   "cell_type": "code",
   "execution_count": 5,
   "metadata": {},
   "outputs": [],
   "source": [
    "# The passes\n",
    "passes_filename = './data/sequences/llvm-10-Oz-passes.yaml'"
   ]
  },
  {
   "cell_type": "code",
   "execution_count": 6,
   "metadata": {},
   "outputs": [],
   "source": [
    "# Initialize a Random object\n",
    "rnd = Random(10, # the number of sequences\n",
    "             10, # minimum length\n",
    "             20, # maximum length\n",
    "             1,  # generate nof_sequences * 1\n",
    "             False, # do not use -mem2reg\n",
    "             False, # do not use shuffle\n",
    "             False, # do not update\n",
    "             True, # use repetition\n",
    "             True, # store the original sequence\n",
    "             passes_filename, # the passes\n",
    "             the_goal, # the goal\n",
    "             'opt', # the compiler\n",
    "             benchmark_top_directory, # benchmark directory\n",
    "             0, # the working set\n",
    "             0, # times to execute - We will only compiling\n",
    "             \"\", # tool to execute - not used\n",
    "             False # do not verify the output\n",
    "            )"
   ]
  },
  {
   "cell_type": "code",
   "execution_count": 7,
   "metadata": {},
   "outputs": [],
   "source": [
    "# The benchmark\n",
    "#\n",
    "# The user should indicate <package>.<benchmark>\n",
    "#\n",
    "benchmark = 'Others.Fibonacci'"
   ]
  },
  {
   "cell_type": "code",
   "execution_count": 8,
   "metadata": {},
   "outputs": [],
   "source": [
    "# Generate the random sequences\n",
    "rnd.run(benchmark)"
   ]
  },
  {
   "cell_type": "code",
   "execution_count": 9,
   "metadata": {},
   "outputs": [
    {
     "name": "stdout",
     "output_type": "stream",
     "text": [
      "0\n",
      "\tgoal: 22.0\n",
      "\tsequence: ['-div-rem-pairs', '-branch-prob', '-opt-remark-emitter', '-gvn', '-prune-eh', '-speculative-execution', '-postdomtree', '-deadargelim', '-loop-sink', '-alignment-from-assumptions', '-aa', '-constmerge', '-tbaa']\n",
      "1\n",
      "\tgoal: 22.0\n",
      "\tsequence: ['-div-rem-pairs', '-early-cse-memssa', '-lcssa-verification', '-ipsccp', '-lazy-block-freq', '-tbaa', '-loop-load-elim', '-loop-accesses', '-barrier', '-scoped-noalias', '-lcssa', '-licm', '-demanded-bits', '-block-freq', '-globals-aa', '-loop-idiom', '-called-value-propagation', '-block-freq', '-tti']\n",
      "2\n",
      "\tgoal: 25.0\n",
      "\tsequence: ['-div-rem-pairs', '-memdep', '-inferattrs', '-loops', '-instsimplify', '-loop-simplify', '-sccp', '-profile-summary-info', '-loop-accesses', '-transform-warning', '-lazy-branch-prob', '-memdep', '-tailcallelim', '-deadargelim', '-jump-threading', '-attributor', '-speculative-execution']\n",
      "3\n",
      "\tgoal: 21.0\n",
      "\tsequence: ['-loop-sink', '-constmerge', '-loop-simplify', '-strip-dead-prototypes', '-instcombine', '-lcssa', '-alignment-from-assumptions', '-opt-remark-emitter', '-branch-prob', '-memoryssa', '-instcombine', '-phi-values']\n",
      "4\n",
      "\tgoal: 20.0\n",
      "\tsequence: ['-ipsccp', '-barrier', '-instcombine', '-licm', '-gvn', '-postdomtree', '-loop-distribute', '-dse', '-prune-eh', '-loop-idiom', '-loop-unroll', '-basiccg', '-branch-prob', '-loop-vectorize', '-loop-sink']\n",
      "5\n",
      "\tgoal: 22.0\n",
      "\tsequence: ['-loop-distribute', '-memoryssa', '-early-cse-memssa', '-demanded-bits', '-sccp', '-transform-warning', '-mldst-motion', '-lcssa-verification', '-elim-avail-extern', '-loop-unroll', '-elim-avail-extern', '-verify', '-basiccg', '-memdep', '-strip-dead-prototypes', '-gvn', '-lower-constant-intrinsics', '-tailcallelim', '-profile-summary-info', '-sccp']\n",
      "6\n",
      "\tgoal: 22.0\n",
      "\tsequence: ['-inline', '-lcssa', '-licm', '-branch-prob', '-basiccg', '-basicaa', '-assumption-cache-tracker', '-loop-unswitch', '-domtree', '-gvn', '-domtree', '-loop-load-elim']\n",
      "7\n",
      "\tgoal: 25.0\n",
      "\tsequence: ['-demanded-bits', '-correlated-propagation', '-speculative-execution', '-ipsccp', '-loop-rotate', '-deadargelim', '-scalar-evolution', '-indvars', '-lazy-branch-prob', '-barrier', '-strip-dead-prototypes', '-called-value-propagation']\n",
      "8\n",
      "\tgoal: 20.0\n",
      "\tsequence: ['-lazy-block-freq', '-sccp', '-globalopt', '-sccp', '-inferattrs', '-lcssa-verification', '-profile-summary-info', '-loop-distribute', '-loop-accesses', '-lower-constant-intrinsics', '-gvn', '-dse', '-alignment-from-assumptions', '-loop-unswitch', '-functionattrs', '-loop-rotate']\n",
      "9\n",
      "\tgoal: 25.0\n",
      "\tsequence: ['-tbaa', '-domtree', '-reassociate', '-lazy-block-freq', '-aa', '-lcssa', '-loop-simplify', '-loops', '-scalar-evolution', '-scoped-noalias']\n"
     ]
    }
   ],
   "source": [
    "# Print the results\n",
    "for key, data in rnd.results.items():\n",
    "    print(key)\n",
    "    print('\\tgoal: {}\\n\\tsequence: {}'.format(data['goal'], data['seq']))"
   ]
  }
 ],
 "metadata": {
  "kernelspec": {
   "display_name": "Python 3",
   "language": "python",
   "name": "python3"
  },
  "language_info": {
   "codemirror_mode": {
    "name": "ipython",
    "version": 3
   },
   "file_extension": ".py",
   "mimetype": "text/x-python",
   "name": "python",
   "nbconvert_exporter": "python",
   "pygments_lexer": "ipython3",
   "version": "3.8.5"
  }
 },
 "nbformat": 4,
 "nbformat_minor": 2
}
