{
 "cells": [
  {
   "cell_type": "markdown",
   "metadata": {},
   "source": [
    "## Calculate MCoeff"
   ]
  },
  {
   "cell_type": "code",
   "execution_count": 1,
   "metadata": {
    "scrolled": true
   },
   "outputs": [],
   "source": [
    "# Copyright 2021 Anderson Faustino da Silva.\n",
    "#\n",
    "# Licensed under the Apache License, Version 2.0 (the \"License\");\n",
    "# you may not use this file except in compliance with the License.\n",
    "# You may obtain a copy of the License at\n",
    "#\n",
    "# http://www.apache.org/licenses/LICENSE-2.0\n",
    "#\n",
    "# Unless required by applicable law or agreed to in writing, software\n",
    "# distributed under the License is distributed on an \"AS IS\" BASIS,\n",
    "# WITHOUT WARRANTIES OR CONDITIONS OF ANY KIND, either express or implied.\n",
    "# See the License for the specific language governing permissions and\n",
    "# limitations under the License.\n",
    "#"
   ]
  },
  {
   "cell_type": "code",
   "execution_count": 2,
   "metadata": {},
   "outputs": [],
   "source": [
    "# Imports\n",
    "import glob"
   ]
  },
  {
   "cell_type": "code",
   "execution_count": 3,
   "metadata": {},
   "outputs": [],
   "source": [
    "# Import YaCoS modules\n",
    "\n",
    "from yacos.essential import IO\n",
    "from yacos.essential import Similarity"
   ]
  },
  {
   "cell_type": "code",
   "execution_count": 4,
   "metadata": {},
   "outputs": [],
   "source": [
    "def extract_name(filename):\n",
    "    name = filename.replace('./data/training_data_sequences/AnghaBench/', '')\n",
    "    name = name.replace('.yaml', '')\n",
    "    return name"
   ]
  },
  {
   "cell_type": "code",
   "execution_count": 5,
   "metadata": {},
   "outputs": [],
   "source": [
    "# The benchmarks\n",
    "directory = './data/training_data_sequences/AnghaBench'\n",
    "benchmarks = glob.glob('{}/*.yaml'.format(directory))\n",
    "test = benchmarks[0]\n",
    "training = benchmarks[1:]"
   ]
  },
  {
   "cell_type": "code",
   "execution_count": 6,
   "metadata": {},
   "outputs": [
    {
     "name": "stdout",
     "output_type": "stream",
     "text": [
      "extr_aes_rijndaelDecrypt\n",
      "\t extr_adv7180_adv7180_probe : 465889.07174322964\n",
      "\t extr_accept_fd_leak_main : 481518.5712857041\n"
     ]
    }
   ],
   "source": [
    "# Calculate MCoeff\n",
    "test_data = IO.load_yaml(test)\n",
    "print(extract_name(test))\n",
    "\n",
    "for bench in training:\n",
    "    training_data = IO.load_yaml(bench)\n",
    "    print('\\t', extract_name(bench), ':', Similarity.mcoeff(test_data, training_data))"
   ]
  }
 ],
 "metadata": {
  "kernelspec": {
   "display_name": "Python 3",
   "language": "python",
   "name": "python3"
  },
  "language_info": {
   "codemirror_mode": {
    "name": "ipython",
    "version": 3
   },
   "file_extension": ".py",
   "mimetype": "text/x-python",
   "name": "python",
   "nbconvert_exporter": "python",
   "pygments_lexer": "ipython3",
   "version": "3.8.5"
  }
 },
 "nbformat": 4,
 "nbformat_minor": 2
}
