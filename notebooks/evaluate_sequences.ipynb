{
 "cells": [
  {
   "cell_type": "markdown",
   "metadata": {},
   "source": [
    "## Evaluate Pre-defined Sequences"
   ]
  },
  {
   "cell_type": "code",
   "execution_count": 1,
   "metadata": {
    "scrolled": true
   },
   "outputs": [],
   "source": [
    "# Copyright 2021 Anderson Faustino da Silva.\n",
    "#\n",
    "# Licensed under the Apache License, Version 2.0 (the \"License\");\n",
    "# you may not use this file except in compliance with the License.\n",
    "# You may obtain a copy of the License at\n",
    "#\n",
    "# http://www.apache.org/licenses/LICENSE-2.0\n",
    "#\n",
    "# Unless required by applicable law or agreed to in writing, software\n",
    "# distributed under the License is distributed on an \"AS IS\" BASIS,\n",
    "# WITHOUT WARRANTIES OR CONDITIONS OF ANY KIND, either express or implied.\n",
    "# See the License for the specific language governing permissions and\n",
    "# limitations under the License.\n",
    "#"
   ]
  },
  {
   "cell_type": "code",
   "execution_count": 2,
   "metadata": {},
   "outputs": [],
   "source": [
    "# Import YaCoS modules\n",
    "\n",
    "from yacos.essential import IO\n",
    "from yacos.essential import Goal\n",
    "from yacos.essential import Engine\n",
    "from yacos.essential import Sequence"
   ]
  },
  {
   "cell_type": "code",
   "execution_count": 3,
   "metadata": {},
   "outputs": [],
   "source": [
    "# The benchmark directory\n",
    "benchmark_directory = './data/benchmarks/Others/Fibonacci'"
   ]
  },
  {
   "cell_type": "code",
   "execution_count": 4,
   "metadata": {},
   "outputs": [],
   "source": [
    "# The goal\n",
    "\n",
    "#\n",
    "# Let's use -> number of LLVM instruction \n",
    "#\n",
    "goal = ['llvm_instructions']\n",
    "weight = [1.0]\n",
    "\n",
    "# It is possible to use multiple goals.\n",
    "#\n",
    "# goal = ['compile_time', 'runtime']\n",
    "# weight = [0.3, 0.7]\n",
    "#\n",
    "# This means, compile_time will contribute with 30% of the \"goal value\".\n",
    "#\n",
    "\n",
    "#\n",
    "# It is necessary \"to prepare the goals\". See goal.py\n",
    "#\n",
    "\n",
    "the_goal = Goal.prepare_goal(goal, weight)"
   ]
  },
  {
   "cell_type": "code",
   "execution_count": 5,
   "metadata": {},
   "outputs": [],
   "source": [
    "# The sequences\n",
    "filename = './data/sequences/levels.yaml'\n",
    "sequences = IO.load_yaml(filename)"
   ]
  },
  {
   "cell_type": "code",
   "execution_count": 6,
   "metadata": {},
   "outputs": [],
   "source": [
    "# Evaluate the sequences\n",
    "results = {}\n",
    "for key, data in sequences.items():\n",
    "    goal_value = Engine.evaluate(\n",
    "        the_goal, # goal\n",
    "        Sequence.name_pass_to_string(data['seq']), # sequence (string)\n",
    "        'opt', # compiler\n",
    "        benchmark_directory, # benchmark directory\n",
    "        0, # working set\n",
    "        0, # running times\n",
    "        '', # running tool\n",
    "        False # do not verify the output\n",
    "    )\n",
    "    results[key] = {'seq': data['seq'], 'goal': goal_value}"
   ]
  },
  {
   "cell_type": "code",
   "execution_count": 7,
   "metadata": {},
   "outputs": [
    {
     "name": "stdout",
     "output_type": "stream",
     "text": [
      "O0\n",
      "\tgoal: 25.0\n",
      "\tsequence: ['-O0']\n",
      "O1\n",
      "\tgoal: 13.0\n",
      "\tsequence: ['-O1']\n",
      "O2\n",
      "\tgoal: 13.0\n",
      "\tsequence: ['-O2']\n",
      "O3\n",
      "\tgoal: 13.0\n",
      "\tsequence: ['-O3']\n",
      "Os\n",
      "\tgoal: 13.0\n",
      "\tsequence: ['-Os']\n",
      "Oz\n",
      "\tgoal: 13.0\n",
      "\tsequence: ['-Oz']\n"
     ]
    }
   ],
   "source": [
    "# Print the results\n",
    "for key, data in results.items():\n",
    "    print(key)\n",
    "    print('\\tgoal: {}\\n\\tsequence: {}'.format(data['goal'], data['seq']))"
   ]
  }
 ],
 "metadata": {
  "kernelspec": {
   "display_name": "Python 3",
   "language": "python",
   "name": "python3"
  },
  "language_info": {
   "codemirror_mode": {
    "name": "ipython",
    "version": 3
   },
   "file_extension": ".py",
   "mimetype": "text/x-python",
   "name": "python",
   "nbconvert_exporter": "python",
   "pygments_lexer": "ipython3",
   "version": "3.8.5"
  }
 },
 "nbformat": 4,
 "nbformat_minor": 2
}
